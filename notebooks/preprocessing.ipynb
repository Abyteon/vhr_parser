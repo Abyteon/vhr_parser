{
 "cells": [
  {
   "cell_type": "markdown",
   "id": "01338ea8-198f-4c7b-a198-f87fc786cd5a",
   "metadata": {},
   "source": [
    "# 数据预处理"
   ]
  },
  {
   "cell_type": "markdown",
   "id": "ff1d871a-aad2-4341-91db-f9452d88d232",
   "metadata": {},
   "source": [
    "## 读取数据\n",
    "\n",
    "### 读取满足条件的分区数据集"
   ]
  },
  {
   "cell_type": "code",
   "execution_count": null,
   "id": "6f6ced68-0ed7-44be-aecb-b7a80edeeb95",
   "metadata": {},
   "outputs": [],
   "source": [
    "import pyarrow.parquet as pq\n",
    "import polars as pl\n",
    "\n",
    "filters=[（\"year\", \"=\", \"2025\"), (\"month\", \"=\", \"07\"), (\"col\", \"op\", val)]\n",
    "dataset = pq.ParquetDataset(\"dataset/\", filters=filters)\n",
    "table = dataset.read()\n",
    "df = pl.from_arrow(table)\n",
    "df.head()"
   ]
  },
  {
   "cell_type": "code",
   "execution_count": null,
   "id": "2b8df1ac-5334-4ffe-a10d-74a4c7f52741",
   "metadata": {},
   "outputs": [],
   "source": []
  },
  {
   "cell_type": "code",
   "execution_count": null,
   "id": "85d04084-6116-4f49-b9ce-f6f5a9ca8b3c",
   "metadata": {},
   "outputs": [],
   "source": [
    "subset = [\"col1\", \"col2\", \"col3\"]\n",
    "df_unique = df.unique(subset=subset, keep=\"first\", maintain_order=True)\n"
   ]
  }
 ],
 "metadata": {
  "kernelspec": {
   "display_name": "Python 3 (ipykernel)",
   "language": "python",
   "name": "python3"
  },
  "language_info": {
   "codemirror_mode": {
    "name": "ipython",
    "version": 3
   },
   "file_extension": ".py",
   "mimetype": "text/x-python",
   "name": "python",
   "nbconvert_exporter": "python",
   "pygments_lexer": "ipython3",
   "version": "3.12.11"
  }
 },
 "nbformat": 4,
 "nbformat_minor": 5
}
